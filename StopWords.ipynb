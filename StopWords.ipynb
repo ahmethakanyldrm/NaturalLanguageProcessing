{
 "cells": [
  {
   "cell_type": "code",
   "execution_count": 2,
   "id": "10af397a-757c-44d8-ba75-d7cb5d205a08",
   "metadata": {},
   "outputs": [],
   "source": [
    "from nltk.corpus import stopwords\n",
    "from nltk.tokenize import word_tokenize"
   ]
  },
  {
   "cell_type": "code",
   "execution_count": 3,
   "id": "351b4078-9a4c-4c0f-af56-7e12ad30739d",
   "metadata": {},
   "outputs": [],
   "source": [
    "text=\"Sahneye ve televizyona ilk çıkışı 1979 yılında 23 Nisan günü bir çocuk şenliği programında Müjdat Gezen, Sezen Aksu ve Erol Evgin gibi isimlerin konuk olduğu programa 8 yaşında kendi bestesini çalarak çıktı.[3] 1994'te Genç Konser Solistleri Avrupa yarışmasında birincilik kazanan Say, 1995'te New York'ta yapılan kıtalararası yarışmanın da birincisi olarak konser kariyerine başladı. Öte yandan oratoryolar, piyano konçertoları, çeşitli formlarda orkestra, oda müziği ve piyano eserleri, şan ve piyano için şarkı bestelemeye başladı.\""
   ]
  },
  {
   "cell_type": "code",
   "execution_count": 5,
   "id": "70f5eff1-e76c-40bc-9ff0-f30eed9e022d",
   "metadata": {},
   "outputs": [],
   "source": [
    "stopwords=stopwords.words(\"turkish\")"
   ]
  },
  {
   "cell_type": "code",
   "execution_count": 6,
   "id": "24dda6ff-07ce-4189-912a-cacf152a7b4f",
   "metadata": {},
   "outputs": [],
   "source": [
    "words=word_tokenize(text)"
   ]
  },
  {
   "cell_type": "code",
   "execution_count": 7,
   "id": "2fdd9656-88b2-41b1-a6c1-a9f7e2f75e98",
   "metadata": {},
   "outputs": [],
   "source": [
    "filtered_words=[]\n",
    "for word in words:\n",
    "    if word not in stopwords:\n",
    "        filtered_words.append(word)\n",
    "        "
   ]
  },
  {
   "cell_type": "code",
   "execution_count": 8,
   "id": "b7cc759d-4a23-4747-be88-9f7d8f7d72f9",
   "metadata": {},
   "outputs": [
    {
     "data": {
      "text/plain": [
       "['Sahneye',\n",
       " 'televizyona',\n",
       " 'ilk',\n",
       " 'çıkışı',\n",
       " '1979',\n",
       " 'yılında',\n",
       " '23',\n",
       " 'Nisan',\n",
       " 'günü',\n",
       " 'bir',\n",
       " 'çocuk',\n",
       " 'şenliği',\n",
       " 'programında',\n",
       " 'Müjdat',\n",
       " 'Gezen',\n",
       " ',',\n",
       " 'Sezen',\n",
       " 'Aksu',\n",
       " 'Erol',\n",
       " 'Evgin',\n",
       " 'isimlerin',\n",
       " 'konuk',\n",
       " 'olduğu',\n",
       " 'programa',\n",
       " '8',\n",
       " 'yaşında',\n",
       " 'kendi',\n",
       " 'bestesini',\n",
       " 'çalarak',\n",
       " 'çıktı',\n",
       " '.',\n",
       " '[',\n",
       " '3',\n",
       " ']',\n",
       " \"1994'te\",\n",
       " 'Genç',\n",
       " 'Konser',\n",
       " 'Solistleri',\n",
       " 'Avrupa',\n",
       " 'yarışmasında',\n",
       " 'birincilik',\n",
       " 'kazanan',\n",
       " 'Say',\n",
       " ',',\n",
       " \"1995'te\",\n",
       " 'New',\n",
       " \"York'ta\",\n",
       " 'yapılan',\n",
       " 'kıtalararası',\n",
       " 'yarışmanın',\n",
       " 'birincisi',\n",
       " 'olarak',\n",
       " 'konser',\n",
       " 'kariyerine',\n",
       " 'başladı',\n",
       " '.',\n",
       " 'Öte',\n",
       " 'yandan',\n",
       " 'oratoryolar',\n",
       " ',',\n",
       " 'piyano',\n",
       " 'konçertoları',\n",
       " ',',\n",
       " 'çeşitli',\n",
       " 'formlarda',\n",
       " 'orkestra',\n",
       " ',',\n",
       " 'oda',\n",
       " 'müziği',\n",
       " 'piyano',\n",
       " 'eserleri',\n",
       " ',',\n",
       " 'şan',\n",
       " 'piyano',\n",
       " 'şarkı',\n",
       " 'bestelemeye',\n",
       " 'başladı',\n",
       " '.']"
      ]
     },
     "execution_count": 8,
     "metadata": {},
     "output_type": "execute_result"
    }
   ],
   "source": [
    "filtered_words"
   ]
  },
  {
   "cell_type": "code",
   "execution_count": 9,
   "id": "c9fa4b3a-a89e-4be0-beb5-a85194819e93",
   "metadata": {},
   "outputs": [
    {
     "data": {
      "text/plain": [
       "['Sahneye',\n",
       " 've',\n",
       " 'televizyona',\n",
       " 'ilk',\n",
       " 'çıkışı',\n",
       " '1979',\n",
       " 'yılında',\n",
       " '23',\n",
       " 'Nisan',\n",
       " 'günü',\n",
       " 'bir',\n",
       " 'çocuk',\n",
       " 'şenliği',\n",
       " 'programında',\n",
       " 'Müjdat',\n",
       " 'Gezen',\n",
       " ',',\n",
       " 'Sezen',\n",
       " 'Aksu',\n",
       " 've',\n",
       " 'Erol',\n",
       " 'Evgin',\n",
       " 'gibi',\n",
       " 'isimlerin',\n",
       " 'konuk',\n",
       " 'olduğu',\n",
       " 'programa',\n",
       " '8',\n",
       " 'yaşında',\n",
       " 'kendi',\n",
       " 'bestesini',\n",
       " 'çalarak',\n",
       " 'çıktı',\n",
       " '.',\n",
       " '[',\n",
       " '3',\n",
       " ']',\n",
       " \"1994'te\",\n",
       " 'Genç',\n",
       " 'Konser',\n",
       " 'Solistleri',\n",
       " 'Avrupa',\n",
       " 'yarışmasında',\n",
       " 'birincilik',\n",
       " 'kazanan',\n",
       " 'Say',\n",
       " ',',\n",
       " \"1995'te\",\n",
       " 'New',\n",
       " \"York'ta\",\n",
       " 'yapılan',\n",
       " 'kıtalararası',\n",
       " 'yarışmanın',\n",
       " 'da',\n",
       " 'birincisi',\n",
       " 'olarak',\n",
       " 'konser',\n",
       " 'kariyerine',\n",
       " 'başladı',\n",
       " '.',\n",
       " 'Öte',\n",
       " 'yandan',\n",
       " 'oratoryolar',\n",
       " ',',\n",
       " 'piyano',\n",
       " 'konçertoları',\n",
       " ',',\n",
       " 'çeşitli',\n",
       " 'formlarda',\n",
       " 'orkestra',\n",
       " ',',\n",
       " 'oda',\n",
       " 'müziği',\n",
       " 've',\n",
       " 'piyano',\n",
       " 'eserleri',\n",
       " ',',\n",
       " 'şan',\n",
       " 've',\n",
       " 'piyano',\n",
       " 'için',\n",
       " 'şarkı',\n",
       " 'bestelemeye',\n",
       " 'başladı',\n",
       " '.']"
      ]
     },
     "execution_count": 9,
     "metadata": {},
     "output_type": "execute_result"
    }
   ],
   "source": [
    "words"
   ]
  },
  {
   "cell_type": "code",
   "execution_count": null,
   "id": "2569b240-a158-4f5b-b5cf-6a9d371296e7",
   "metadata": {},
   "outputs": [],
   "source": []
  }
 ],
 "metadata": {
  "kernelspec": {
   "display_name": "Python 3",
   "language": "python",
   "name": "python3"
  },
  "language_info": {
   "codemirror_mode": {
    "name": "ipython",
    "version": 3
   },
   "file_extension": ".py",
   "mimetype": "text/x-python",
   "name": "python",
   "nbconvert_exporter": "python",
   "pygments_lexer": "ipython3",
   "version": "3.8.8"
  }
 },
 "nbformat": 4,
 "nbformat_minor": 5
}
