{
 "cells": [
  {
   "cell_type": "code",
   "execution_count": 2,
   "id": "f67f3a0b-fe8c-4fe2-991f-40112fbcc3df",
   "metadata": {},
   "outputs": [],
   "source": [
    "from nltk.stem import WordNetLemmatizer"
   ]
  },
  {
   "cell_type": "code",
   "execution_count": 3,
   "id": "5481f533-8b62-4eeb-b39f-e6f01f5d144b",
   "metadata": {},
   "outputs": [],
   "source": [
    "lem=WordNetLemmatizer()"
   ]
  },
  {
   "cell_type": "code",
   "execution_count": 4,
   "id": "bee49adb-66f8-4bb2-80fe-55f47455ed7e",
   "metadata": {},
   "outputs": [],
   "source": [
    "words=[\"drive\",\"driving\",\"driver\",\"drives\",\"drove\",\"cats\",\"children\"]"
   ]
  },
  {
   "cell_type": "code",
   "execution_count": 6,
   "id": "8598ad97-c66f-4f54-b269-c1d05a8b0c39",
   "metadata": {},
   "outputs": [
    {
     "name": "stdout",
     "output_type": "stream",
     "text": [
      "drive\n",
      "driving\n",
      "driver\n",
      "drive\n",
      "drove\n",
      "cat\n",
      "child\n"
     ]
    }
   ],
   "source": [
    "for w in words:\n",
    "    print(lem.lemmatize(w))"
   ]
  },
  {
   "cell_type": "code",
   "execution_count": 7,
   "id": "08776f93-8332-4e5d-8720-f513a670841a",
   "metadata": {},
   "outputs": [
    {
     "data": {
      "text/plain": [
       "'drive'"
      ]
     },
     "execution_count": 7,
     "metadata": {},
     "output_type": "execute_result"
    }
   ],
   "source": [
    "lem.lemmatize(\"driving\",\"v\")"
   ]
  },
  {
   "cell_type": "code",
   "execution_count": 8,
   "id": "8858ce53-5212-42bd-b4c0-719e295bd12b",
   "metadata": {},
   "outputs": [
    {
     "data": {
      "text/plain": [
       "'drive'"
      ]
     },
     "execution_count": 8,
     "metadata": {},
     "output_type": "execute_result"
    }
   ],
   "source": [
    "lem.lemmatize(\"drove\",\"v\")"
   ]
  },
  {
   "cell_type": "code",
   "execution_count": null,
   "id": "eb00798a-271c-47da-808b-cc47883c482c",
   "metadata": {},
   "outputs": [],
   "source": []
  }
 ],
 "metadata": {
  "kernelspec": {
   "display_name": "Python 3",
   "language": "python",
   "name": "python3"
  },
  "language_info": {
   "codemirror_mode": {
    "name": "ipython",
    "version": 3
   },
   "file_extension": ".py",
   "mimetype": "text/x-python",
   "name": "python",
   "nbconvert_exporter": "python",
   "pygments_lexer": "ipython3",
   "version": "3.8.8"
  }
 },
 "nbformat": 4,
 "nbformat_minor": 5
}
