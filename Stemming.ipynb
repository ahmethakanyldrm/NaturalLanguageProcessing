{
 "cells": [
  {
   "cell_type": "code",
   "execution_count": 5,
   "id": "94ab510f-eacd-4098-b2ad-e0d2f84e5e7c",
   "metadata": {},
   "outputs": [],
   "source": [
    "from nltk.stem import PorterStemmer"
   ]
  },
  {
   "cell_type": "code",
   "execution_count": 6,
   "id": "92afa9dc-ffcc-4bf3-8983-3d2f8a274638",
   "metadata": {},
   "outputs": [],
   "source": [
    "ps=PorterStemmer()"
   ]
  },
  {
   "cell_type": "code",
   "execution_count": 7,
   "id": "64fc0140-32f0-4b14-b9dd-3736bab13ffa",
   "metadata": {},
   "outputs": [],
   "source": [
    "words=[\"drive\",\"driving\",\"driver\",\"drives\",\"drove\",\"cats\",\"children\"]"
   ]
  },
  {
   "cell_type": "code",
   "execution_count": 8,
   "id": "6ee9fd9c-2821-4281-8294-87c98bf50ed8",
   "metadata": {},
   "outputs": [
    {
     "name": "stdout",
     "output_type": "stream",
     "text": [
      "drive\n",
      "drive\n",
      "driver\n",
      "drive\n",
      "drove\n",
      "cat\n",
      "children\n"
     ]
    }
   ],
   "source": [
    "for w in words:\n",
    "    print(ps.stem(w))"
   ]
  },
  {
   "cell_type": "code",
   "execution_count": 9,
   "id": "b3d04134-50a2-4818-b2f5-29075ec60c2f",
   "metadata": {},
   "outputs": [],
   "source": [
    "words2=[\"Teachers\",\"Books\",\"Computers\",\"Monitoring\",\"Drives\"]"
   ]
  },
  {
   "cell_type": "code",
   "execution_count": 10,
   "id": "57c975c1-ac0e-4204-8d90-277054267388",
   "metadata": {},
   "outputs": [
    {
     "name": "stdout",
     "output_type": "stream",
     "text": [
      "teacher\n",
      "book\n",
      "comput\n",
      "monitor\n",
      "drive\n"
     ]
    }
   ],
   "source": [
    "for w in words2:\n",
    "    print(ps.stem(w))"
   ]
  },
  {
   "cell_type": "code",
   "execution_count": null,
   "id": "71ac2f64-97c8-461d-82c2-4ae8c8a464fb",
   "metadata": {},
   "outputs": [],
   "source": []
  }
 ],
 "metadata": {
  "kernelspec": {
   "display_name": "Python 3",
   "language": "python",
   "name": "python3"
  },
  "language_info": {
   "codemirror_mode": {
    "name": "ipython",
    "version": 3
   },
   "file_extension": ".py",
   "mimetype": "text/x-python",
   "name": "python",
   "nbconvert_exporter": "python",
   "pygments_lexer": "ipython3",
   "version": "3.8.8"
  }
 },
 "nbformat": 4,
 "nbformat_minor": 5
}
